{
 "metadata": {
  "language_info": {
   "codemirror_mode": {
    "name": "ipython",
    "version": 3
   },
   "file_extension": ".py",
   "mimetype": "text/x-python",
   "name": "python",
   "nbconvert_exporter": "python",
   "pygments_lexer": "ipython3",
   "version": "3.8.5"
  },
  "orig_nbformat": 2,
  "kernelspec": {
   "name": "python385jvsc74a57bd0df35f4bcba1f162bd5f368433d03efca69503141bb3fb1af3d634a4f694a3729",
   "display_name": "Python 3.8.5 32-bit"
  },
  "metadata": {
   "interpreter": {
    "hash": "df35f4bcba1f162bd5f368433d03efca69503141bb3fb1af3d634a4f694a3729"
   }
  }
 },
 "nbformat": 4,
 "nbformat_minor": 2,
 "cells": [
  {
   "source": [
    "<h1>Equal-Weight S&P 500 Index Fund</h1>\n",
    "<h2>Introduction and Library Imports</h2>\n",
    "\n",
    "\n",
    "<h2>Library Imports</h2>\n"
   ],
   "cell_type": "markdown",
   "metadata": {}
  },
  {
   "cell_type": "code",
   "execution_count": 1,
   "metadata": {},
   "outputs": [],
   "source": [
    "import numpy as np \n",
    "import pandas as pd \n",
    "import requests \n",
    "import xlsxwriter\n",
    "import math"
   ]
  },
  {
   "source": [
    "<h2>Importing Our List of Stocks</h2>\n"
   ],
   "cell_type": "markdown",
   "metadata": {}
  },
  {
   "cell_type": "code",
   "execution_count": 2,
   "metadata": {},
   "outputs": [],
   "source": [
    "stocks = pd.read_csv('sp_500_stocks.csv')"
   ]
  },
  {
   "source": [
    "<h2>Acquiring an API Token</h2>"
   ],
   "cell_type": "markdown",
   "metadata": {}
  },
  {
   "cell_type": "code",
   "execution_count": 3,
   "metadata": {},
   "outputs": [],
   "source": [
    "from secrets import IEX_CLOUD_API_TOKEN"
   ]
  },
  {
   "source": [
    "<h2>Making our first API Call</h2>"
   ],
   "cell_type": "markdown",
   "metadata": {}
  },
  {
   "cell_type": "code",
   "execution_count": 4,
   "metadata": {},
   "outputs": [],
   "source": [
    "symbol = 'AAPL'\n",
    "api_url = f'https://sandbox.iexapis.com/stable/stock/{symbol}/quote/?token={IEX_CLOUD_API_TOKEN}'\n",
    "data = requests.get(api_url).json()"
   ]
  },
  {
   "source": [
    "<h2>Parsing our api call</h2>\n"
   ],
   "cell_type": "markdown",
   "metadata": {}
  },
  {
   "cell_type": "code",
   "execution_count": 5,
   "metadata": {},
   "outputs": [],
   "source": [
    "price = data['latestPrice']\n",
    "market_cap = data['marketCap']"
   ]
  },
  {
   "source": [
    "<h2>Adding our Stocks Data to a pandas dataframe</h2>"
   ],
   "cell_type": "markdown",
   "metadata": {}
  },
  {
   "cell_type": "code",
   "execution_count": 6,
   "metadata": {},
   "outputs": [],
   "source": [
    "my_columns = ['Ticker', 'Stock Price', 'Market Capitalization', 'Number of Shares to Buy']\n",
    "final_dataframe = pd.DataFrame(columns = my_columns)\n"
   ]
  },
  {
   "cell_type": "code",
   "execution_count": 7,
   "metadata": {},
   "outputs": [
    {
     "output_type": "execute_result",
     "data": {
      "text/plain": [
       "  Ticker  Stock Price Market Capitalization Number of Shares to Buy\n",
       "0   AAPL       133.31         2285750653795                     N/A"
      ],
      "text/html": "<div>\n<style scoped>\n    .dataframe tbody tr th:only-of-type {\n        vertical-align: middle;\n    }\n\n    .dataframe tbody tr th {\n        vertical-align: top;\n    }\n\n    .dataframe thead th {\n        text-align: right;\n    }\n</style>\n<table border=\"1\" class=\"dataframe\">\n  <thead>\n    <tr style=\"text-align: right;\">\n      <th></th>\n      <th>Ticker</th>\n      <th>Stock Price</th>\n      <th>Market Capitalization</th>\n      <th>Number of Shares to Buy</th>\n    </tr>\n  </thead>\n  <tbody>\n    <tr>\n      <th>0</th>\n      <td>AAPL</td>\n      <td>133.31</td>\n      <td>2285750653795</td>\n      <td>N/A</td>\n    </tr>\n  </tbody>\n</table>\n</div>"
     },
     "metadata": {},
     "execution_count": 7
    }
   ],
   "source": [
    "final_dataframe.append(\n",
    "    pd.Series(\n",
    "    [\n",
    "        symbol,\n",
    "        price,\n",
    "        market_cap,\n",
    "        'N/A'\n",
    "    ],\n",
    "    index = my_columns\n",
    "    ),\n",
    "    ignore_index=True\n",
    ")\n"
   ]
  },
  {
   "source": [
    "<h2>Looping through the tickers in our list of stcocks</h2>"
   ],
   "cell_type": "markdown",
   "metadata": {}
  },
  {
   "cell_type": "code",
   "execution_count": 8,
   "metadata": {},
   "outputs": [],
   "source": []
  },
  {
   "source": [
    "<h2>Using Batch API calls to improve performance</h2>"
   ],
   "cell_type": "markdown",
   "metadata": {}
  },
  {
   "cell_type": "code",
   "execution_count": 8,
   "metadata": {},
   "outputs": [],
   "source": [
    "def chunks(lst,n):\n",
    "    for i in range(0, len(lst), n):\n",
    "        yield lst[i:i+n]"
   ]
  },
  {
   "cell_type": "code",
   "execution_count": 19,
   "metadata": {},
   "outputs": [],
   "source": [
    "symbol_groups = list(chunks(stocks['Ticker'],100))\n",
    "symbol_string = []\n",
    "for i in range(0, len(symbol_groups)):\n",
    "    symbol_string.append(','.join(symbol_groups[i]))\n",
    "\n",
    "final_dataframe = pd.DataFrame(columns= my_columns)\n",
    "\n",
    "for symbol_string in symbol_string:\n",
    "    batch_api_call_url = f'https://sandbox.iexapis.com/stable/stock/market/batch?symbols={symbol_string}&types=quote&token={IEX_CLOUD_API_TOKEN}'\n",
    "    data = requests.get(batch_api_call_url).json()\n",
    "    \n",
    "    for symbol in symbol_string.split(','):\n",
    "        final_dataframe = final_dataframe.append(\n",
    "            pd.Series(\n",
    "                [\n",
    "                    symbol,\n",
    "                    data[symbol]['quote']['latestPrice'],\n",
    "                    data[symbol]['quote']['marketCap'],\n",
    "                    'N/A'\n",
    "                ], \n",
    "                index = my_columns\n",
    "            ),ignore_index=True\n",
    "        )"
   ]
  },
  {
   "cell_type": "code",
   "execution_count": 20,
   "metadata": {},
   "outputs": [
    {
     "output_type": "execute_result",
     "data": {
      "text/plain": [
       "    Ticker  Stock Price Market Capitalization Number of Shares to Buy\n",
       "0        A      135.870           41121860568                     N/A\n",
       "1      AAL       23.061           15417864718                     N/A\n",
       "2      AAP      195.550           12603728508                     N/A\n",
       "3     AAPL      131.950         2296963734930                     N/A\n",
       "4     ABBV      113.000          198450816901                     N/A\n",
       "..     ...          ...                   ...                     ...\n",
       "500    YUM      116.760           35723061207                     N/A\n",
       "501    ZBH      173.510           36541330735                     N/A\n",
       "502   ZBRA      505.900           27519620431                     N/A\n",
       "503   ZION       57.800            9444979570                     N/A\n",
       "504    ZTS      169.730           77584996927                     N/A\n",
       "\n",
       "[505 rows x 4 columns]"
      ],
      "text/html": "<div>\n<style scoped>\n    .dataframe tbody tr th:only-of-type {\n        vertical-align: middle;\n    }\n\n    .dataframe tbody tr th {\n        vertical-align: top;\n    }\n\n    .dataframe thead th {\n        text-align: right;\n    }\n</style>\n<table border=\"1\" class=\"dataframe\">\n  <thead>\n    <tr style=\"text-align: right;\">\n      <th></th>\n      <th>Ticker</th>\n      <th>Stock Price</th>\n      <th>Market Capitalization</th>\n      <th>Number of Shares to Buy</th>\n    </tr>\n  </thead>\n  <tbody>\n    <tr>\n      <th>0</th>\n      <td>A</td>\n      <td>135.870</td>\n      <td>41121860568</td>\n      <td>N/A</td>\n    </tr>\n    <tr>\n      <th>1</th>\n      <td>AAL</td>\n      <td>23.061</td>\n      <td>15417864718</td>\n      <td>N/A</td>\n    </tr>\n    <tr>\n      <th>2</th>\n      <td>AAP</td>\n      <td>195.550</td>\n      <td>12603728508</td>\n      <td>N/A</td>\n    </tr>\n    <tr>\n      <th>3</th>\n      <td>AAPL</td>\n      <td>131.950</td>\n      <td>2296963734930</td>\n      <td>N/A</td>\n    </tr>\n    <tr>\n      <th>4</th>\n      <td>ABBV</td>\n      <td>113.000</td>\n      <td>198450816901</td>\n      <td>N/A</td>\n    </tr>\n    <tr>\n      <th>...</th>\n      <td>...</td>\n      <td>...</td>\n      <td>...</td>\n      <td>...</td>\n    </tr>\n    <tr>\n      <th>500</th>\n      <td>YUM</td>\n      <td>116.760</td>\n      <td>35723061207</td>\n      <td>N/A</td>\n    </tr>\n    <tr>\n      <th>501</th>\n      <td>ZBH</td>\n      <td>173.510</td>\n      <td>36541330735</td>\n      <td>N/A</td>\n    </tr>\n    <tr>\n      <th>502</th>\n      <td>ZBRA</td>\n      <td>505.900</td>\n      <td>27519620431</td>\n      <td>N/A</td>\n    </tr>\n    <tr>\n      <th>503</th>\n      <td>ZION</td>\n      <td>57.800</td>\n      <td>9444979570</td>\n      <td>N/A</td>\n    </tr>\n    <tr>\n      <th>504</th>\n      <td>ZTS</td>\n      <td>169.730</td>\n      <td>77584996927</td>\n      <td>N/A</td>\n    </tr>\n  </tbody>\n</table>\n<p>505 rows × 4 columns</p>\n</div>"
     },
     "metadata": {},
     "execution_count": 20
    }
   ],
   "source": [
    "final_dataframe"
   ]
  },
  {
   "source": [
    "<h2>Calculatting the number of shares to buy</h2>\n"
   ],
   "cell_type": "markdown",
   "metadata": {}
  },
  {
   "cell_type": "code",
   "execution_count": 21,
   "metadata": {},
   "outputs": [
    {
     "output_type": "stream",
     "name": "stdout",
     "text": [
      "1000000.0\n"
     ]
    }
   ],
   "source": [
    "portfolio_size = input(\"Enter the value of your portfolio: \")\n",
    "\n",
    "try:\n",
    "    val = float(portfolio_size)\n",
    "    print(val)\n",
    "except ValueError:\n",
    "    print(\"That's not a number \\n Please try again\")\n",
    "\n",
    "    portfolio_size = input(\"Enter the value of your portfolio: \")\n",
    "\n",
    "    val = float(portfolio_size)"
   ]
  },
  {
   "cell_type": "code",
   "execution_count": 22,
   "metadata": {},
   "outputs": [
    {
     "output_type": "execute_result",
     "data": {
      "text/plain": [
       "    Ticker  Stock Price Market Capitalization Number of Shares to Buy\n",
       "0        A      135.870           41121860568               14.572753\n",
       "1      AAL       23.061           15417864718               85.859243\n",
       "2      AAP      195.550           12603728508               10.125288\n",
       "3     AAPL      131.950         2296963734930               15.005684\n",
       "4     ABBV      113.000          198450816901               17.522124\n",
       "..     ...          ...                   ...                     ...\n",
       "500    YUM      116.760           35723061207               16.957862\n",
       "501    ZBH      173.510           36541330735               11.411446\n",
       "502   ZBRA      505.900           27519620431                3.913817\n",
       "503   ZION       57.800            9444979570               34.256055\n",
       "504    ZTS      169.730           77584996927               11.665587\n",
       "\n",
       "[505 rows x 4 columns]"
      ],
      "text/html": "<div>\n<style scoped>\n    .dataframe tbody tr th:only-of-type {\n        vertical-align: middle;\n    }\n\n    .dataframe tbody tr th {\n        vertical-align: top;\n    }\n\n    .dataframe thead th {\n        text-align: right;\n    }\n</style>\n<table border=\"1\" class=\"dataframe\">\n  <thead>\n    <tr style=\"text-align: right;\">\n      <th></th>\n      <th>Ticker</th>\n      <th>Stock Price</th>\n      <th>Market Capitalization</th>\n      <th>Number of Shares to Buy</th>\n    </tr>\n  </thead>\n  <tbody>\n    <tr>\n      <th>0</th>\n      <td>A</td>\n      <td>135.870</td>\n      <td>41121860568</td>\n      <td>14.572753</td>\n    </tr>\n    <tr>\n      <th>1</th>\n      <td>AAL</td>\n      <td>23.061</td>\n      <td>15417864718</td>\n      <td>85.859243</td>\n    </tr>\n    <tr>\n      <th>2</th>\n      <td>AAP</td>\n      <td>195.550</td>\n      <td>12603728508</td>\n      <td>10.125288</td>\n    </tr>\n    <tr>\n      <th>3</th>\n      <td>AAPL</td>\n      <td>131.950</td>\n      <td>2296963734930</td>\n      <td>15.005684</td>\n    </tr>\n    <tr>\n      <th>4</th>\n      <td>ABBV</td>\n      <td>113.000</td>\n      <td>198450816901</td>\n      <td>17.522124</td>\n    </tr>\n    <tr>\n      <th>...</th>\n      <td>...</td>\n      <td>...</td>\n      <td>...</td>\n      <td>...</td>\n    </tr>\n    <tr>\n      <th>500</th>\n      <td>YUM</td>\n      <td>116.760</td>\n      <td>35723061207</td>\n      <td>16.957862</td>\n    </tr>\n    <tr>\n      <th>501</th>\n      <td>ZBH</td>\n      <td>173.510</td>\n      <td>36541330735</td>\n      <td>11.411446</td>\n    </tr>\n    <tr>\n      <th>502</th>\n      <td>ZBRA</td>\n      <td>505.900</td>\n      <td>27519620431</td>\n      <td>3.913817</td>\n    </tr>\n    <tr>\n      <th>503</th>\n      <td>ZION</td>\n      <td>57.800</td>\n      <td>9444979570</td>\n      <td>34.256055</td>\n    </tr>\n    <tr>\n      <th>504</th>\n      <td>ZTS</td>\n      <td>169.730</td>\n      <td>77584996927</td>\n      <td>11.665587</td>\n    </tr>\n  </tbody>\n</table>\n<p>505 rows × 4 columns</p>\n</div>"
     },
     "metadata": {},
     "execution_count": 22
    }
   ],
   "source": [
    "position_size = val/len(final_dataframe.index)\n",
    "\n",
    "for i in range(0, len(final_dataframe.index)):\n",
    "    final_dataframe.loc[i,'Number of Shares to Buy'] = math.floor(position_size)/final_dataframe.loc[i,'Stock Price']\n",
    "\n",
    "final_dataframe"
   ]
  },
  {
   "source": [
    "<h2>Formatting our Excel Output</h2>\n"
   ],
   "cell_type": "markdown",
   "metadata": {}
  },
  {
   "cell_type": "code",
   "execution_count": 51,
   "metadata": {},
   "outputs": [],
   "source": [
    "writer = pd.ExcelWriter('recommended_trades.xlsx', engine= 'xlsxwriter')\n",
    "final_dataframe.to_excel(writer,'Recommended Trades', index = False)"
   ]
  },
  {
   "source": [
    "<h2>Creating the formats we'll need for our .xlsx finle</h2>\n"
   ],
   "cell_type": "markdown",
   "metadata": {}
  },
  {
   "cell_type": "code",
   "execution_count": 52,
   "metadata": {},
   "outputs": [],
   "source": [
    "backgroungColor = '#0a0a23'\n",
    "fontColor = '#ffffff'\n",
    "\n",
    "stringFormat = writer.book.add_format(\n",
    "    {\n",
    "        'font_color':fontColor,\n",
    "        'bg_color':backgroungColor,\n",
    "        'border':1\n",
    "    }\n",
    ")\n",
    "\n",
    "dolarFormat = writer.book.add_format(\n",
    "    {\n",
    "        'num_format':'$0.00',\n",
    "        'font_color':fontColor,\n",
    "        'bg_color':backgroungColor,\n",
    "        'border':1\n",
    "    }\n",
    ")\n",
    "\n",
    "integerFormat = writer.book.add_format(\n",
    "    {\n",
    "        'num_format':'0',\n",
    "        'font_color':fontColor,\n",
    "        'bg_color':backgroungColor,\n",
    "        'border':1\n",
    "    }\n",
    ")"
   ]
  },
  {
   "source": [
    "<h2>Applying the Formats to the Columns of our xlsx File</h2>"
   ],
   "cell_type": "markdown",
   "metadata": {}
  },
  {
   "cell_type": "code",
   "execution_count": 53,
   "metadata": {},
   "outputs": [],
   "source": [
    "#writer.sheets['Recommended Trades'].set_column('A:A', 18, stringFormat)\n",
    "#writer.sheets['Recommended Trades'].set_column('B:B', 18, stringFormat)\n",
    "#writer.sheets['Recommended Trades'].set_column('C:C', 18, stringFormat)\n",
    "#writer.sheets['Recommended Trades'].set_column('D:D', 18, stringFormat)\n",
    "#writer.save()\n",
    "\n",
    "#writer.sheets['Recommended Trades'].write('A1','Ticker',stringFormat)"
   ]
  },
  {
   "cell_type": "code",
   "execution_count": 54,
   "metadata": {},
   "outputs": [],
   "source": [
    "columnFormats = {\n",
    "    'A':['Ticker', stringFormat],\n",
    "    'B':['Stock Price', dolarFormat],\n",
    "    'C':['Market Capitalization', dolarFormat],\n",
    "    'D':['Number of Shares to Buy', integerFormat]\n",
    "}\n",
    "\n",
    "for column in columnFormats.keys():\n",
    "    writer.sheets['Recommended Trades'].set_column(f'{column}:{column}', 18, columnFormats[column][1])\n",
    "    writer.sheets['Recommended Trades'].write(f'{column}1',columnFormats[column][0],columnFormats[column][1])\n",
    "\n",
    "writer.save()"
   ]
  },
  {
   "cell_type": "code",
   "execution_count": null,
   "metadata": {},
   "outputs": [],
   "source": []
  },
  {
   "cell_type": "code",
   "execution_count": null,
   "metadata": {},
   "outputs": [],
   "source": []
  }
 ]
}